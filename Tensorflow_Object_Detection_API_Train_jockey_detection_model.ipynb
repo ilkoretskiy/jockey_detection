{
  "nbformat": 4,
  "nbformat_minor": 0,
  "metadata": {
    "colab": {
      "name": "Tensorflow Object Detection API. Train jockey detection model",
      "provenance": [],
      "collapsed_sections": [],
      "mount_file_id": "1_-AIbo6LMFv89QLycwrCX5aC72TPvu8B",
      "authorship_tag": "ABX9TyN9LRVlPDo0vltlt+igUgsk",
      "include_colab_link": true
    },
    "kernelspec": {
      "name": "python3",
      "display_name": "Python 3"
    }
  },
  "cells": [
    {
      "cell_type": "markdown",
      "metadata": {
        "id": "view-in-github",
        "colab_type": "text"
      },
      "source": [
        "<a href=\"https://colab.research.google.com/github/ilkoretskiy/jockey_detection/blob/master/Tensorflow_Object_Detection_API_Train_jockey_detection_model.ipynb\" target=\"_parent\"><img src=\"https://colab.research.google.com/assets/colab-badge.svg\" alt=\"Open In Colab\"/></a>"
      ]
    },
    {
      "cell_type": "code",
      "metadata": {
        "id": "GeoztP0T8pMY",
        "colab_type": "code",
        "outputId": "1e1d6500-bd10-4286-b4f9-401b98b8be7b",
        "colab": {
          "base_uri": "https://localhost:8080/",
          "height": 34
        }
      },
      "source": [
        "%tensorflow_version 1.x"
      ],
      "execution_count": 1,
      "outputs": [
        {
          "output_type": "stream",
          "text": [
            "TensorFlow 1.x selected.\n"
          ],
          "name": "stdout"
        }
      ]
    },
    {
      "cell_type": "markdown",
      "metadata": {
        "id": "jq2VgohpG8WO",
        "colab_type": "text"
      },
      "source": [
        "## Check GPU"
      ]
    },
    {
      "cell_type": "code",
      "metadata": {
        "id": "7lNic-DZDLvE",
        "colab_type": "code",
        "outputId": "f3f9ab17-432c-4a37-8280-05af491bb02a",
        "colab": {
          "base_uri": "https://localhost:8080/",
          "height": 34
        }
      },
      "source": [
        "import tensorflow as tf\n",
        "device_name = tf.test.gpu_device_name()\n",
        "if device_name != '/device:GPU:0':\n",
        "  raise SystemError('GPU device not found')\n",
        "print('Found GPU at: {}'.format(device_name))"
      ],
      "execution_count": 2,
      "outputs": [
        {
          "output_type": "stream",
          "text": [
            "Found GPU at: /device:GPU:0\n"
          ],
          "name": "stdout"
        }
      ]
    },
    {
      "cell_type": "code",
      "metadata": {
        "id": "fzl_iQ2aRy2X",
        "colab_type": "code",
        "outputId": "56638c61-480e-4c9a-b859-153e553be20e",
        "colab": {
          "base_uri": "https://localhost:8080/",
          "height": 54
        }
      },
      "source": [
        "tf.version"
      ],
      "execution_count": 3,
      "outputs": [
        {
          "output_type": "execute_result",
          "data": {
            "text/plain": [
              "<module 'tensorflow._api.v1.version' from '/tensorflow-1.15.2/python3.6/tensorflow_core/_api/v1/version/__init__.py'>"
            ]
          },
          "metadata": {
            "tags": []
          },
          "execution_count": 3
        }
      ]
    },
    {
      "cell_type": "code",
      "metadata": {
        "id": "lXnvnHCuvE6m",
        "colab_type": "code",
        "colab": {}
      },
      "source": [
        "import os"
      ],
      "execution_count": 0,
      "outputs": []
    },
    {
      "cell_type": "markdown",
      "metadata": {
        "id": "KibnUzjfG_ih",
        "colab_type": "text"
      },
      "source": [
        "**At this point i assume that you've already uploaded all you data in ```ml_research/jockey_detection``` folder**\n",
        "\n",
        "Expected folders structure is\n",
        "```\n",
        "+ jockey_detection\n",
        "  + data\n",
        "    + tfrecord\n",
        "      - jockey_train.record\n",
        "      - jockey_val.record\n",
        "  - labelmap.pbtxt\n",
        "+ model\n",
        "  - ssd_mobilenet_v1.config\n",
        "```"
      ]
    },
    {
      "cell_type": "code",
      "metadata": {
        "id": "ni4Q4YWfnlFs",
        "colab_type": "code",
        "colab": {}
      },
      "source": [
        "ml_folder = \"/content/drive/My Drive/ml_research\"\n",
        "%cd {ml_folder}"
      ],
      "execution_count": 0,
      "outputs": []
    },
    {
      "cell_type": "markdown",
      "metadata": {
        "id": "YioXsxFeHUXB",
        "colab_type": "text"
      },
      "source": [
        "## Install dependencies"
      ]
    },
    {
      "cell_type": "code",
      "metadata": {
        "id": "gEoQWh_Fn8ys",
        "colab_type": "code",
        "colab": {}
      },
      "source": [
        "!apt-get install -qq protobuf-compiler python-pil python-lxml python-tk\n",
        "!pip install -q Cython contextlib2 pillow lxml matplotlib"
      ],
      "execution_count": 0,
      "outputs": []
    },
    {
      "cell_type": "markdown",
      "metadata": {
        "id": "QR0uTbyIHmDe",
        "colab_type": "text"
      },
      "source": [
        "## Download object detection api"
      ]
    },
    {
      "cell_type": "code",
      "metadata": {
        "id": "k9FwicpfGvIx",
        "colab_type": "code",
        "outputId": "6d1367bb-5402-4a07-bcd9-d128e6a8fea2",
        "colab": {
          "base_uri": "https://localhost:8080/",
          "height": 34
        }
      },
      "source": [
        "!git clone https://github.com/tensorflow/models.git\n",
        "%cd {ml_folder}/models/research\n",
        "!protoc object_detection/protos/*.proto --python_out=.\n",
        "!python object_detection/builders/model_builder_test.py"
      ],
      "execution_count": 0,
      "outputs": [
        {
          "output_type": "stream",
          "text": [
            "/content/drive/My Drive/colab_tf_od_train_results/models/research\n"
          ],
          "name": "stdout"
        }
      ]
    },
    {
      "cell_type": "markdown",
      "metadata": {
        "id": "Ef83eW8HHqx6",
        "colab_type": "text"
      },
      "source": [
        "## Download cocoapi"
      ]
    },
    {
      "cell_type": "code",
      "metadata": {
        "id": "OMJrHqSmbLNC",
        "colab_type": "code",
        "colab": {}
      },
      "source": [
        "%cd {ml_folder}\n",
        "!git clone https://github.com/cocodataset/cocoapi.git\n",
        "%cd {ml_folder}/cocoapi/PythonAPI\n",
        "!make\n",
        "!cp -r pycocotools {ml_folder}/models/research/"
      ],
      "execution_count": 0,
      "outputs": []
    },
    {
      "cell_type": "markdown",
      "metadata": {
        "id": "bb7ivuKUqyBN",
        "colab_type": "text"
      },
      "source": [
        "## Download pretrained ssd mobilenet"
      ]
    },
    {
      "cell_type": "code",
      "metadata": {
        "id": "Xs6YoGwKa4JE",
        "colab_type": "code",
        "colab": {}
      },
      "source": [
        "%mkdir  {ml_folder}/pretrained_models/\n",
        "%cd {ml_folder}/pretrained_models/\n",
        "!wget http://download.tensorflow.org/models/object_detection/ssd_mobilenet_v1_coco_2018_01_28.tar.gz\n",
        "!tar -xzvf ssd_mobilenet_v1_coco_2018_01_28.tar.gz\n",
        "%rm ./ssd_mobilenet_v1_coco_2018_01_28.tar.gz"
      ],
      "execution_count": 0,
      "outputs": []
    },
    {
      "cell_type": "markdown",
      "metadata": {
        "id": "4RU3YQ6JrelS",
        "colab_type": "text"
      },
      "source": [
        "## Fix ssd_mobilenet config"
      ]
    },
    {
      "cell_type": "markdown",
      "metadata": {
        "id": "FjQ8J8sUskmr",
        "colab_type": "text"
      },
      "source": [
        "Go to the folder where we are going to store the config file"
      ]
    },
    {
      "cell_type": "code",
      "metadata": {
        "colab_type": "code",
        "id": "-Xj7XIEUrZ62",
        "colab": {}
      },
      "source": [
        "%cd {ml_folder}/jockey_detection/model"
      ],
      "execution_count": 0,
      "outputs": []
    },
    {
      "cell_type": "markdown",
      "metadata": {
        "id": "m-sILfwgr3DK",
        "colab_type": "text"
      },
      "source": [
        "The best way to fix paths in the config that i've found is to write them directly in the file from a cell.\n",
        "\n",
        "Just copy what you've already made on your computer and paste it here, after `%%writefile`\n",
        "\n",
        "*It is not good enough in case when you want to make a choice of the job more flexible.*\n",
        "*However i think it's good enough for now.*\n"
      ]
    },
    {
      "cell_type": "code",
      "metadata": {
        "id": "C0Mp3j9LeotZ",
        "colab_type": "code",
        "colab": {}
      },
      "source": [
        "%%writefile ./ssd_mobilenet_v1.config\n",
        "\n",
        "# SSD with Mobilenet v1 configuration for MSCOCO Dataset.\n",
        "# Users should configure the fine_tune_checkpoint field in the train config as\n",
        "# well as the label_map_path and input_path fields in the train_input_reader and\n",
        "# eval_input_reader. Search for \"PATH_TO_BE_CONFIGURED\" to find the fields that\n",
        "# should be configured.\n",
        "\n",
        "model {\n",
        "  ssd {\n",
        "    num_classes: 1\n",
        "    box_coder {\n",
        "      faster_rcnn_box_coder {\n",
        "        y_scale: 10.0\n",
        "        x_scale: 10.0\n",
        "        height_scale: 5.0\n",
        "        width_scale: 5.0\n",
        "      }\n",
        "    }\n",
        "    matcher {\n",
        "      argmax_matcher {\n",
        "        matched_threshold: 0.5\n",
        "        unmatched_threshold: 0.5\n",
        "        ignore_thresholds: false\n",
        "        negatives_lower_than_unmatched: true\n",
        "        force_match_for_each_row: true\n",
        "      }\n",
        "    }\n",
        "    similarity_calculator {\n",
        "      iou_similarity {\n",
        "      }\n",
        "    }\n",
        "    anchor_generator {\n",
        "      ssd_anchor_generator {\n",
        "        num_layers: 6\n",
        "        min_scale: 0.2\n",
        "        max_scale: 0.95\n",
        "        aspect_ratios: 1.0\n",
        "        aspect_ratios: 2.0\n",
        "        aspect_ratios: 0.5\n",
        "        aspect_ratios: 3.0\n",
        "        aspect_ratios: 0.3333\n",
        "      }\n",
        "    }\n",
        "    image_resizer {\n",
        "      fixed_shape_resizer {\n",
        "        height: 300\n",
        "        width: 300\n",
        "      }\n",
        "    }\n",
        "    box_predictor {\n",
        "      convolutional_box_predictor {\n",
        "        min_depth: 0\n",
        "        max_depth: 0\n",
        "        num_layers_before_predictor: 0\n",
        "        use_dropout: false\n",
        "        dropout_keep_probability: 0.8\n",
        "        kernel_size: 1\n",
        "        box_code_size: 4\n",
        "        apply_sigmoid_to_scores: false\n",
        "        conv_hyperparams {\n",
        "          activation: RELU_6,\n",
        "          regularizer {\n",
        "            l2_regularizer {\n",
        "              weight: 0.00004\n",
        "            }\n",
        "          }\n",
        "          initializer {\n",
        "            truncated_normal_initializer {\n",
        "              stddev: 0.03\n",
        "              mean: 0.0\n",
        "            }\n",
        "          }\n",
        "          batch_norm {\n",
        "            train: true,\n",
        "            scale: true,\n",
        "            center: true,\n",
        "            decay: 0.9997,\n",
        "            epsilon: 0.001,\n",
        "          }\n",
        "        }\n",
        "      }\n",
        "    }\n",
        "    feature_extractor {\n",
        "      type: 'ssd_mobilenet_v1'\n",
        "      min_depth: 16\n",
        "      depth_multiplier: 1.0\n",
        "      conv_hyperparams {\n",
        "        activation: RELU_6,\n",
        "        regularizer {\n",
        "          l2_regularizer {\n",
        "            weight: 0.00004\n",
        "          }\n",
        "        }\n",
        "        initializer {\n",
        "          truncated_normal_initializer {\n",
        "            stddev: 0.03\n",
        "            mean: 0.0\n",
        "          }\n",
        "        }\n",
        "        batch_norm {\n",
        "          train: true,\n",
        "          scale: true,\n",
        "          center: true,\n",
        "          decay: 0.9997,\n",
        "          epsilon: 0.001,\n",
        "        }\n",
        "      }\n",
        "    }\n",
        "    loss {\n",
        "      classification_loss {\n",
        "        weighted_sigmoid {\n",
        "        }\n",
        "      }\n",
        "      localization_loss {\n",
        "        weighted_smooth_l1 {\n",
        "        }\n",
        "      }\n",
        "      hard_example_miner {\n",
        "        num_hard_examples: 3000\n",
        "        iou_threshold: 0.99\n",
        "        loss_type: CLASSIFICATION\n",
        "        max_negatives_per_positive: 3\n",
        "        min_negatives_per_image: 0\n",
        "      }\n",
        "      classification_weight: 1.0\n",
        "      localization_weight: 1.0\n",
        "    }\n",
        "    normalize_loss_by_num_matches: true\n",
        "    post_processing {\n",
        "      batch_non_max_suppression {\n",
        "        score_threshold: 1e-8\n",
        "        iou_threshold: 0.6\n",
        "        max_detections_per_class: 100\n",
        "        max_total_detections: 100\n",
        "      }\n",
        "      score_converter: SIGMOID\n",
        "    }\n",
        "  }\n",
        "}\n",
        "\n",
        "train_config: {\n",
        "  batch_size: 24\n",
        "  optimizer {\n",
        "    rms_prop_optimizer: {\n",
        "      learning_rate: {\n",
        "        exponential_decay_learning_rate {\n",
        "          initial_learning_rate: 0.004\n",
        "          decay_steps: 800720\n",
        "          decay_factor: 0.95\n",
        "        }\n",
        "      }\n",
        "      momentum_optimizer_value: 0.9\n",
        "      decay: 0.9\n",
        "      epsilon: 1.0\n",
        "    }\n",
        "  }\n",
        "  fine_tune_checkpoint: \"/content/drive/My\\ Drive/ml_research/pretrained_models/ssd_mobilenet_v1_coco_2018_01_28/model.ckpt.index\"\n",
        "  from_detection_checkpoint: true\n",
        "  # Note: The below line limits the training process to 200K steps, which we\n",
        "  # empirically found to be sufficient enough to train the pets dataset. This\n",
        "  # effectively bypasses the learning rate schedule (the learning rate will\n",
        "  # never decay). Remove the below line to train indefinitely.\n",
        "  num_steps: 200000\n",
        "  data_augmentation_options {\n",
        "    random_horizontal_flip {\n",
        "    }\n",
        "  }\n",
        "  data_augmentation_options {\n",
        "    ssd_random_crop {\n",
        "    }\n",
        "  }\n",
        "}\n",
        "\n",
        "train_input_reader: {\n",
        "  tf_record_input_reader {\n",
        "    input_path: \"/content/drive/My\\ Drive/ml_research/jockey_detection/data/tfrecords/jockey_train.record\"\n",
        "  }\n",
        "  label_map_path: \"/content/drive/My\\ Drive/ml_research/jockey_detection/data/labelmap.pbtxt\"\n",
        "}\n",
        "\n",
        "eval_config: {\n",
        "  num_examples: 11\n",
        "  # Note: The below line limits the evaluation process to 10 evaluations.\n",
        "  # Remove the below line to evaluate indefinitely.\n",
        "  # max_evals: 10\n",
        "}\n",
        "\n",
        "eval_input_reader: {\n",
        "  tf_record_input_reader {\n",
        "    input_path: \"/content/drive/My\\ Drive/ml_research/jockey_detection/data/tfrecords/jockey_eval.record\"\n",
        "  }\n",
        "  label_map_path: \"/content/drive/My\\ Drive/ml_research/jockey_detection/data/labelmap.pbtxt\"\n",
        "  shuffle: false\n",
        "  num_readers: 1\n",
        "}\n"
      ],
      "execution_count": 0,
      "outputs": []
    },
    {
      "cell_type": "markdown",
      "metadata": {
        "id": "rJiFlC4c2jHb",
        "colab_type": "text"
      },
      "source": [
        "## Train model"
      ]
    },
    {
      "cell_type": "code",
      "metadata": {
        "id": "E5X70IobdCei",
        "colab_type": "code",
        "colab": {}
      },
      "source": [
        "%cd {ml_folder}/models/research/\n",
        "\n",
        "! PYTHONPATH=${PYTHONPATH}:./:./object_detection:./slim python object_detection/model_main.py \\\n",
        "  --pipeline_config_path=\"/content/drive/My Drive/ml_research/models/jockey_detection/model/ssd_mobilenet_v1.config\" \\\n",
        "  --model_dir=\"/content/drive/My Drive/ml_research/models/jockey_detection/model/\" \\\n",
        "  --sample_1_of_n_eval_examples=1 \\\n",
        "  --num_train_steps=200000 \\\n",
        "  --alsologtostderr\n"
      ],
      "execution_count": 0,
      "outputs": []
    },
    {
      "cell_type": "markdown",
      "metadata": {
        "id": "qXu_Aeg_ki35",
        "colab_type": "text"
      },
      "source": [
        "## Evaluate model once"
      ]
    },
    {
      "cell_type": "code",
      "metadata": {
        "id": "x1R7iDN-kgTV",
        "colab_type": "code",
        "colab": {}
      },
      "source": [
        "%cd /content/drive/My\\ Drive/colab_tf_od_train_results/models/research/\n",
        "\n",
        "! PYTHONPATH=${PYTHONPATH}:./:./object_detection:./slim python object_detection/model_main.py \\\n",
        "  --pipeline_config_path=\"/content/drive/My Drive/ml_research/models/jockey_detection/model/ssd_mobilenet_v1.config\" \\\n",
        "  --checkpoint_dir=\"/content/drive/My Drive/ml_research/models/jockey_detection/model/train\" \\\n",
        "  --model_dir=\"/content/drive/My Drive/ml_research/models/jockey_detection/model/eval_train\" \\\n",
        "  --eval_training_data=True \\\n",
        "  --run_once \\\n",
        "  --alsologtostderr\n",
        "\n",
        "! PYTHONPATH=${PYTHONPATH}:./:./object_detection:./slim python object_detection/model_main.py \\\n",
        "  --pipeline_config_path=\"/content/drive/My Drive/ml_research/models/jockey_detection/model/ssd_mobilenet_v1.config\" \\\n",
        "  --checkpoint_dir=\"/content/drive/My Drive/ml_research/models/jockey_detection/model/train\" \\\n",
        "  --model_dir=\"/content/drive/My Drive/ml_research/models/jockey_detection/model/eval_test\" \\\n",
        "  --run_once \\\n",
        "  --alsologtostderr"
      ],
      "execution_count": 0,
      "outputs": []
    },
    {
      "cell_type": "markdown",
      "metadata": {
        "id": "QTpo2Rik3HlX",
        "colab_type": "text"
      },
      "source": [
        "## Download ngrok (optional)"
      ]
    },
    {
      "cell_type": "markdown",
      "metadata": {
        "id": "8UJHtilD4Hi1",
        "colab_type": "text"
      },
      "source": [
        "You could read more about ngrok [here](https://ngrok.com/product)\n",
        "\n",
        "It is not necessary to use ngrok if you're working with TF v2, however i found it very useful."
      ]
    },
    {
      "cell_type": "code",
      "metadata": {
        "id": "acgF-AI4g2l2",
        "colab_type": "code",
        "colab": {}
      },
      "source": [
        "!mkdir {ml_folder}/ngrok\n",
        "%cd {ml_folder}/ngrok\n",
        "\n",
        "!wget https://bin.equinox.io/c/4VmDzA7iaHb/ngrok-stable-linux-amd64.zip\n",
        "!unzip ngrok-stable-linux-amd64.zip\n",
        "!rm ngrok-stable-linux-amd64.zip\n",
        "!chmod 755 {ml_folder}/ngrok/ngrok"
      ],
      "execution_count": 0,
      "outputs": []
    },
    {
      "cell_type": "markdown",
      "metadata": {
        "id": "BVT0IpMd4Vq3",
        "colab_type": "text"
      },
      "source": [
        "## Launching tensorboard"
      ]
    },
    {
      "cell_type": "markdown",
      "metadata": {
        "id": "pnDXIcOv4ioL",
        "colab_type": "text"
      },
      "source": [
        "I'm not sure if it is only my problem, but i very often had errors when tried to launch tensorboard with enabled TF v1.\n",
        "\n",
        "The next code supposed to work TF v1, but i can't guarantee that."
      ]
    },
    {
      "cell_type": "code",
      "metadata": {
        "id": "GHBDa6osgUSi",
        "colab_type": "code",
        "colab": {}
      },
      "source": [
        "LOG_DIR = os.path.join(ml_folder, \"jockey_detection\")\n",
        "\n",
        "\n",
        "get_ipython().system_raw(\n",
        "    'tensorboard --logdir {} --host 0.0.0.0 --port 6006 &'\n",
        "    .format(LOG_DIR)\n",
        ")\n"
      ],
      "execution_count": 0,
      "outputs": []
    },
    {
      "cell_type": "markdown",
      "metadata": {
        "id": "ugMNYKiy46_g",
        "colab_type": "text"
      },
      "source": [
        "Let's check if we succesfully did it.\n",
        "\n",
        "In case of mistake you'll get \n",
        "```Failed to connect to localhost port 6006: Connection refused```\n",
        "\n",
        "Otherwise there will be a listing of HTML code\n"
      ]
    },
    {
      "cell_type": "code",
      "metadata": {
        "id": "ufPtAAc7ghKk",
        "colab_type": "code",
        "colab": {}
      },
      "source": [
        "! curl http://localhost:6006"
      ],
      "execution_count": 0,
      "outputs": []
    },
    {
      "cell_type": "markdown",
      "metadata": {
        "id": "eQrCFZ2T7Kk3",
        "colab_type": "text"
      },
      "source": [
        "Launch ngrok"
      ]
    },
    {
      "cell_type": "code",
      "metadata": {
        "id": "PqFFSHpYg5sM",
        "colab_type": "code",
        "colab": {}
      },
      "source": [
        "ngrok_path = os.path.join(ml_folder, \"ngrok\", \"ngrok\")\n",
        "get_ipython().system_raw('{} http 6006 &'.format(ngrok_path))"
      ],
      "execution_count": 0,
      "outputs": []
    },
    {
      "cell_type": "markdown",
      "metadata": {
        "id": "CztWMDp97TyQ",
        "colab_type": "text"
      },
      "source": [
        "Get the url where you can observe your tensorboard"
      ]
    },
    {
      "cell_type": "code",
      "metadata": {
        "id": "7o5BWpGbg_m_",
        "colab_type": "code",
        "outputId": "6b42259d-a74f-4d99-ca03-d6d5d40a04db",
        "colab": {
          "base_uri": "https://localhost:8080/",
          "height": 34
        }
      },
      "source": [
        "! curl -s http://localhost:4040/api/tunnels | python3 -c \\\n",
        "    \"import sys, json; print(json.load(sys.stdin)['tunnels'][0]['public_url'])\""
      ],
      "execution_count": 17,
      "outputs": [
        {
          "output_type": "stream",
          "text": [
            "http://0bef416e.ngrok.io\n"
          ],
          "name": "stdout"
        }
      ]
    },
    {
      "cell_type": "markdown",
      "metadata": {
        "id": "ubezzkjG7aUM",
        "colab_type": "text"
      },
      "source": [
        "## Launching tensorboard with TF v2\n",
        "Please, pay attention, that you need restart runtime if you've aready switched to tf v1. \n",
        "\n",
        "You could do this \"Runtime(tab) -> Restart runtime\""
      ]
    },
    {
      "cell_type": "code",
      "metadata": {
        "id": "7XiPdNFxFmYo",
        "colab_type": "code",
        "outputId": "72126d6f-1883-46ed-f8b4-886142403019",
        "colab": {
          "base_uri": "https://localhost:8080/",
          "height": 34
        }
      },
      "source": [
        "%cd ml_folder/\"/jockey_detection/model\""
      ],
      "execution_count": 1,
      "outputs": [
        {
          "output_type": "stream",
          "text": [
            "/content/drive/My Drive/colab_tf_od_train_results/models/jockey_detection/model\n"
          ],
          "name": "stdout"
        }
      ]
    },
    {
      "cell_type": "code",
      "metadata": {
        "id": "i1TY9GSzj6E-",
        "colab_type": "code",
        "colab": {}
      },
      "source": [
        "%load_ext tensorboard\n",
        "%tensorboard --logdir=./ --port=6006\n",
        "# %reload_ext tensorboard"
      ],
      "execution_count": 0,
      "outputs": []
    },
    {
      "cell_type": "markdown",
      "metadata": {
        "id": "kj65av618C_d",
        "colab_type": "text"
      },
      "source": [
        "If you see a tensorboard in a cell it means that everything went fine.\n",
        "\n",
        "What i personally found more convenient is to make an another notebook with tensorboard launch only. In this case you don't need to restart runtime."
      ]
    }
  ]
}